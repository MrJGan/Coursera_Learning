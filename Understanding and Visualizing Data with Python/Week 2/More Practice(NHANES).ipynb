{
 "cells": [
  {
   "cell_type": "markdown",
   "metadata": {},
   "source": [
    "# By MrJGan"
   ]
  },
  {
   "cell_type": "markdown",
   "metadata": {},
   "source": [
    "## Last update : 10/30/2020"
   ]
  },
  {
   "cell_type": "markdown",
   "metadata": {},
   "source": [
    "# Practice notebook for univariate analysis using NHANES data\n",
    "\n",
    "This notebook will give you the opportunity to perform some univariate analyses on your own using the NHANES.  These analyses are similar to what was done in the week 2 NHANES case study notebook.\n",
    "\n",
    "You can enter your code into the cells that say \"enter your code here\", and you can type responses to the questions into the cells that say \"Type Markdown and Latex\".\n",
    "\n",
    "Note that most of the code that you will need to write below is very similar to code that appears in the case study notebook.  You will need to edit code from that notebook in small ways to adapt it to the prompts below.\n",
    "\n",
    "To get started, we will use the same module imports and read the data in the same way as we did in the case study:"
   ]
  },
  {
   "cell_type": "code",
   "execution_count": 2,
   "metadata": {},
   "outputs": [],
   "source": [
    "import pandas as pd\n",
    "import matplotlib.pyplot as plt\n",
    "import seaborn as sns\n",
    "import statsmodels.api as sm\n",
    "import numpy as np\n",
    "\n",
    "# load my data\n",
    "da = pd.read_csv(r'C:\\Users\\J\\nhanes_2015_2016.csv.txt')"
   ]
  },
  {
   "cell_type": "markdown",
   "metadata": {},
   "source": [
    "# Question 1"
   ]
  },
  {
   "cell_type": "markdown",
   "metadata": {},
   "source": [
    "Relabel the marital status variable [DMDMARTL](https://wwwn.cdc.gov/Nchs/Nhanes/2015-2016/DEMO_I.htm#DMDMARTL) to have brief but informative character labels.  Then construct a frequency table of these values for all people, then for women only, and for men only.  Then construct these three frequency tables using only people whose age is between 30 and 40."
   ]
  },
  {
   "cell_type": "code",
   "execution_count": 3,
   "metadata": {},
   "outputs": [],
   "source": [
    "# Relabel the martial status variable DMDMARTL.\n",
    "da['DMDMARTL'] = da.DMDMARTL.replace({1: 'Married', 2: 'Widowed', 3: 'Divorced', 4: 'Separated',\\\n",
    "5: 'Never married', 6: 'Living with partner', 77: 'Refused', 99: 'Don\\'t Know'})"
   ]
  },
  {
   "cell_type": "code",
   "execution_count": 4,
   "metadata": {},
   "outputs": [],
   "source": [
    "# Remove all missing values in this column.    \n",
    "da1 = da[da['DMDMARTL'].notna()]"
   ]
  },
  {
   "cell_type": "markdown",
   "metadata": {},
   "source": [
    "Confirm that there is no missing value in gender column (not required):"
   ]
  },
  {
   "cell_type": "code",
   "execution_count": 5,
   "metadata": {},
   "outputs": [
    {
     "data": {
      "text/plain": [
       "array([1, 2], dtype=int64)"
      ]
     },
     "execution_count": 5,
     "metadata": {},
     "output_type": "execute_result"
    }
   ],
   "source": [
    "da1.RIAGENDR.unique()  # no missing data in this column"
   ]
  },
  {
   "cell_type": "code",
   "execution_count": 6,
   "metadata": {},
   "outputs": [
    {
     "name": "stdout",
     "output_type": "stream",
     "text": [
      "Married                2780\n",
      "Never married          1004\n",
      "Divorced                579\n",
      "Living with partner     527\n",
      "Widowed                 396\n",
      "Separated               186\n",
      "Refused                   2\n",
      "Name: DMDMARTL, dtype: int64\n",
      "Married                1303\n",
      "Never married           520\n",
      "Divorced                350\n",
      "Widowed                 296\n",
      "Living with partner     262\n",
      "Separated               118\n",
      "Refused                   1\n",
      "Name: DMDMARTL, dtype: int64\n",
      "Married                1477\n",
      "Never married           484\n",
      "Living with partner     265\n",
      "Divorced                229\n",
      "Widowed                 100\n",
      "Separated                68\n",
      "Refused                   1\n",
      "Name: DMDMARTL, dtype: int64\n"
     ]
    }
   ],
   "source": [
    "# Frequency table:\n",
    "# for all people\n",
    "print(da1.DMDMARTL.value_counts())\n",
    "\n",
    "# for women only\n",
    "print(da1[da1['RIAGENDR'] == 2].DMDMARTL.value_counts())  # for women only\n",
    "\n",
    "# for men only\n",
    "print(da1[da1['RIAGENDR'] == 1].DMDMARTL.value_counts())  # for men only"
   ]
  },
  {
   "cell_type": "code",
   "execution_count": 7,
   "metadata": {},
   "outputs": [
    {
     "name": "stdout",
     "output_type": "stream",
     "text": [
      "Married                560\n",
      "Never married          217\n",
      "Living with partner    143\n",
      "Divorced                70\n",
      "Separated               30\n",
      "Widowed                  5\n",
      "Refused                  1\n",
      "Name: DMDMARTL, dtype: int64\n",
      "Married                285\n",
      "Never married          116\n",
      "Living with partner     65\n",
      "Divorced                46\n",
      "Separated               18\n",
      "Widowed                  2\n",
      "Name: DMDMARTL, dtype: int64\n",
      "Married                275\n",
      "Never married          101\n",
      "Living with partner     78\n",
      "Divorced                24\n",
      "Separated               12\n",
      "Widowed                  3\n",
      "Refused                  1\n",
      "Name: DMDMARTL, dtype: int64\n"
     ]
    }
   ],
   "source": [
    "# for all\n",
    "print(da1.loc[(da1['RIDAGEYR'] >= 30) & (da1['RIDAGEYR'] <= 40)].DMDMARTL.value_counts())\n",
    "\n",
    "# for women only\n",
    "print(da1.loc[(da1['RIAGENDR'] == 2) & (da1['RIDAGEYR'] >= 30) & (da1['RIDAGEYR'] <= 40)].DMDMARTL.value_counts()) \n",
    "\n",
    "# for men only\n",
    "print(da1.loc[(da1['RIAGENDR'] == 1) & (da1['RIDAGEYR'] >= 30) & (da1['RIDAGEYR'] <= 40)].DMDMARTL.value_counts())  "
   ]
  },
  {
   "cell_type": "markdown",
   "metadata": {},
   "source": [
    "__Q1a.__ Briefly comment on some of the differences that you observe between the distribution of marital status between women and men, for people of all ages."
   ]
  },
  {
   "cell_type": "markdown",
   "metadata": {},
   "source": [
    "A brief answer only for reference:"
   ]
  },
  {
   "cell_type": "markdown",
   "metadata": {},
   "source": [
    "* For men, only the number of \"Married\" is higher than women."
   ]
  },
  {
   "cell_type": "markdown",
   "metadata": {},
   "source": [
    "* Both genders have 1 observation in \"Refused\"."
   ]
  },
  {
   "cell_type": "markdown",
   "metadata": {},
   "source": [
    "__Q1b.__ Briefly comment on the differences that you observe between the distribution of marital status states for women between the overall population, and for women between the ages of 30 and 40."
   ]
  },
  {
   "cell_type": "markdown",
   "metadata": {},
   "source": [
    "* Answer is omitted."
   ]
  },
  {
   "cell_type": "markdown",
   "metadata": {},
   "source": [
    "__Q1c.__ Repeat part b for the men."
   ]
  },
  {
   "cell_type": "markdown",
   "metadata": {},
   "source": [
    "* Answer is omitted."
   ]
  },
  {
   "cell_type": "markdown",
   "metadata": {},
   "source": [
    "# Question 2"
   ]
  },
  {
   "cell_type": "markdown",
   "metadata": {},
   "source": [
    "Restricting to the female population, stratify the subjects into age bands no wider than ten years, and construct the distribution of marital status within each age band. Within each age band, present the distribution in terms of proportions that must sum to 1."
   ]
  },
  {
   "cell_type": "code",
   "execution_count": 15,
   "metadata": {},
   "outputs": [],
   "source": [
    "# female population\n",
    "da_f = da[da['RIAGENDR'] == 2]"
   ]
  },
  {
   "cell_type": "code",
   "execution_count": 16,
   "metadata": {},
   "outputs": [
    {
     "data": {
      "text/plain": [
       "count    2976.000000\n",
       "mean       47.793011\n",
       "std        18.299419\n",
       "min        18.000000\n",
       "25%        32.000000\n",
       "50%        47.000000\n",
       "75%        62.000000\n",
       "max        80.000000\n",
       "Name: RIDAGEYR, dtype: float64"
      ]
     },
     "execution_count": 16,
     "metadata": {},
     "output_type": "execute_result"
    }
   ],
   "source": [
    "# check the range of age\n",
    "da_f.RIDAGEYR.describe()"
   ]
  },
  {
   "cell_type": "code",
   "execution_count": 17,
   "metadata": {},
   "outputs": [
    {
     "name": "stderr",
     "output_type": "stream",
     "text": [
      "C:\\Users\\J\\Anaconda3\\lib\\site-packages\\ipykernel_launcher.py:2: SettingWithCopyWarning: \n",
      "A value is trying to be set on a copy of a slice from a DataFrame.\n",
      "Try using .loc[row_indexer,col_indexer] = value instead\n",
      "\n",
      "See the caveats in the documentation: http://pandas.pydata.org/pandas-docs/stable/user_guide/indexing.html#returning-a-view-versus-a-copy\n",
      "  \n"
     ]
    },
    {
     "data": {
      "text/plain": [
       "3       (55, 65]\n",
       "4       (35, 45]\n",
       "5       (65, 75]\n",
       "7       (25, 35]\n",
       "12      (25, 35]\n",
       "          ...   \n",
       "5724    (35, 45]\n",
       "5727    (65, 75]\n",
       "5730    (75, 85]\n",
       "5732    (75, 85]\n",
       "5734    (15, 25]\n",
       "Name: age, Length: 2976, dtype: category\n",
       "Categories (7, interval[int64]): [(15, 25] < (25, 35] < (35, 45] < (45, 55] < (55, 65] < (65, 75] < (75, 85]]"
      ]
     },
     "execution_count": 17,
     "metadata": {},
     "output_type": "execute_result"
    }
   ],
   "source": [
    "# stratify into age bands\n",
    "da_f['age'] = pd.cut(da.RIDAGEYR, [15, 25, 35, 45, 55, 65, 75, 85])\n",
    "da_f.age"
   ]
  },
  {
   "cell_type": "code",
   "execution_count": 19,
   "metadata": {},
   "outputs": [
    {
     "name": "stdout",
     "output_type": "stream",
     "text": [
      "age       DMDMARTL           \n",
      "(15, 25]  Never married          0.600733\n",
      "          Living with partner    0.197802\n",
      "          Married                0.161172\n",
      "          Separated              0.029304\n",
      "          Divorced               0.010989\n",
      "(25, 35]  Married                0.467054\n",
      "          Never married          0.282946\n",
      "          Living with partner    0.184109\n",
      "          Divorced               0.044574\n",
      "          Separated              0.021318\n",
      "(35, 45]  Married                0.566600\n",
      "          Never married          0.149105\n",
      "          Divorced               0.129225\n",
      "          Living with partner    0.091451\n",
      "          Separated              0.051690\n",
      "          Widowed                0.011928\n",
      "(45, 55]  Married                0.541752\n",
      "          Divorced               0.169043\n",
      "          Never married          0.109980\n",
      "          Living with partner    0.069246\n",
      "          Separated              0.061100\n",
      "          Widowed                0.048880\n",
      "(55, 65]  Married                0.528889\n",
      "          Divorced               0.180000\n",
      "          Never married          0.106667\n",
      "          Widowed                0.086667\n",
      "          Separated              0.048889\n",
      "          Living with partner    0.046667\n",
      "          Refused                0.002222\n",
      "(65, 75]  Married                0.428571\n",
      "          Widowed                0.243697\n",
      "          Divorced               0.196078\n",
      "          Never married          0.053221\n",
      "          Separated              0.050420\n",
      "          Living with partner    0.028011\n",
      "(75, 85]  Widowed                0.538462\n",
      "          Married                0.292308\n",
      "          Divorced               0.096154\n",
      "          Never married          0.053846\n",
      "          Separated              0.011538\n",
      "          Living with partner    0.007692\n",
      "Name: DMDMARTL, dtype: float64\n"
     ]
    }
   ],
   "source": [
    "# distribution of marital status within each age band, in percentage\n",
    "print(da_f.groupby('age')['DMDMARTL'].value_counts(normalize = True))"
   ]
  },
  {
   "cell_type": "markdown",
   "metadata": {},
   "source": [
    "__Q2a.__ Comment on the trends that you see in this series of marginal distributions."
   ]
  },
  {
   "cell_type": "markdown",
   "metadata": {},
   "source": [
    "* Answer is omitted."
   ]
  },
  {
   "cell_type": "markdown",
   "metadata": {},
   "source": [
    "__Q2b.__ Repeat the construction for males."
   ]
  },
  {
   "cell_type": "code",
   "execution_count": 21,
   "metadata": {},
   "outputs": [
    {
     "name": "stdout",
     "output_type": "stream",
     "text": [
      "age       DMDMARTL           \n",
      "(15, 25]  Never married          0.734127\n",
      "          Living with partner    0.134921\n",
      "          Married                0.119048\n",
      "          Separated              0.007937\n",
      "          Divorced               0.003968\n",
      "(25, 35]  Married                0.458244\n",
      "          Never married          0.286938\n",
      "          Living with partner    0.211991\n",
      "          Divorced               0.019272\n",
      "          Separated              0.017131\n",
      "          Widowed                0.006424\n",
      "(35, 45]  Married                0.627451\n",
      "          Living with partner    0.137255\n",
      "          Never married          0.129902\n",
      "          Divorced               0.063725\n",
      "          Separated              0.034314\n",
      "          Widowed                0.004902\n",
      "          Refused                0.002451\n",
      "(45, 55]  Married                0.687356\n",
      "          Divorced               0.112644\n",
      "          Never married          0.094253\n",
      "          Living with partner    0.071264\n",
      "          Separated              0.025287\n",
      "          Widowed                0.009195\n",
      "(55, 65]  Married                0.635974\n",
      "          Divorced               0.143469\n",
      "          Never married          0.104925\n",
      "          Living with partner    0.053533\n",
      "          Widowed                0.034261\n",
      "          Separated              0.027837\n",
      "(65, 75]  Married                0.655977\n",
      "          Divorced               0.139942\n",
      "          Widowed                0.064140\n",
      "          Living with partner    0.046647\n",
      "          Never married          0.046647\n",
      "          Separated              0.046647\n",
      "(75, 85]  Married                0.619048\n",
      "          Widowed                0.210317\n",
      "          Divorced               0.115079\n",
      "          Never married          0.023810\n",
      "          Living with partner    0.015873\n",
      "          Separated              0.015873\n",
      "Name: DMDMARTL, dtype: float64\n"
     ]
    },
    {
     "name": "stderr",
     "output_type": "stream",
     "text": [
      "C:\\Users\\J\\Anaconda3\\lib\\site-packages\\ipykernel_launcher.py:3: SettingWithCopyWarning: \n",
      "A value is trying to be set on a copy of a slice from a DataFrame.\n",
      "Try using .loc[row_indexer,col_indexer] = value instead\n",
      "\n",
      "See the caveats in the documentation: http://pandas.pydata.org/pandas-docs/stable/user_guide/indexing.html#returning-a-view-versus-a-copy\n",
      "  This is separate from the ipykernel package so we can avoid doing imports until\n"
     ]
    }
   ],
   "source": [
    "da_m = da[da['RIAGENDR'] == 1]\n",
    "da_m.RIDAGEYR.describe()\n",
    "da_m['age'] = pd.cut(da.RIDAGEYR, [15, 25, 35, 45, 55, 65, 75, 85])\n",
    "print(da_m.groupby('age')['DMDMARTL'].value_counts(normalize = True))"
   ]
  },
  {
   "cell_type": "markdown",
   "metadata": {},
   "source": [
    "__Q2c.__ Comment on any notable differences that you see when comparing these results for females and for males."
   ]
  },
  {
   "cell_type": "markdown",
   "metadata": {},
   "source": [
    "* Answer is omitted."
   ]
  },
  {
   "cell_type": "markdown",
   "metadata": {},
   "source": [
    "# Question 3"
   ]
  },
  {
   "cell_type": "markdown",
   "metadata": {},
   "source": [
    "Construct a histogram of the distribution of heights using the BMXHT variable in the NHANES sample."
   ]
  },
  {
   "cell_type": "code",
   "execution_count": 25,
   "metadata": {},
   "outputs": [
    {
     "data": {
      "image/png": "[encoded data removed]",
      "text/plain": [
       "<Figure size 432x288 with 1 Axes>"
      ]
     },
     "metadata": {
      "needs_background": "light"
     },
     "output_type": "display_data"
    }
   ],
   "source": [
    "# Remove missing values in BMXHT\n",
    "da_height = da[da['BMXHT'].notna()]\n",
    "\n",
    "# Histogram\n",
    "\n",
    "\n",
    "sns.distplot(a = da_height['BMXHT']).set_title('Histogram of Heights')\n",
    "plt.show()"
   ]
  },
  {
   "cell_type": "markdown",
   "metadata": {},
   "source": [
    "__Q3a.__ Use the `bins` argument to [distplot](https://seaborn.pydata.org/generated/seaborn.distplot.html) to produce histograms with different numbers of bins.  Assess whether the default value for this argument gives a meaningful result, and comment on what happens as the number of bins grows excessively large or excessively small. "
   ]
  },
  {
   "cell_type": "code",
   "execution_count": 32,
   "metadata": {
    "scrolled": true
   },
   "outputs": [
    {
     "data": {
      "image/png": "[encoded data removed]",
      "text/plain": [
       "<Figure size 432x288 with 4 Axes>"
      ]
     },
     "metadata": {
      "needs_background": "light"
     },
     "output_type": "display_data"
    }
   ],
   "source": [
    "# set bins to different values\n",
    "\n",
    "plt.subplot(2,2,1)\n",
    "sns.distplot(a = da_height['BMXHT'], bins = 10).set_title('10 bins')\n",
    "\n",
    "plt.subplot(2,2,2)\n",
    "sns.distplot(a = da_height['BMXHT'], bins = 50).set_title('50 bins')\n",
    "\n",
    "plt.subplot(2,2,3)\n",
    "sns.distplot(a = da_height['BMXHT'], bins = 100).set_title('100 bins')\n",
    "\n",
    "plt.subplot(2,2,4)\n",
    "sns.distplot(a = da_height['BMXHT'], bins = 400).set_title('400 bins')\n",
    "\n",
    "plt.show()"
   ]
  },
  {
   "cell_type": "markdown",
   "metadata": {},
   "source": [
    "__Q3b.__ Make separate histograms for the heights of women and men, then make a side-by-side boxplot showing the heights of women and men."
   ]
  },
  {
   "cell_type": "code",
   "execution_count": 40,
   "metadata": {
    "scrolled": true
   },
   "outputs": [
    {
     "data": {
      "image/png": "[encoded data removed]",
      "text/plain": [
       "<Figure size 432x288 with 2 Axes>"
      ]
     },
     "metadata": {
      "needs_background": "light"
     },
     "output_type": "display_data"
    }
   ],
   "source": [
    "# Histogram for heights of women and men\n",
    "plt.subplot(2,1,1)\n",
    "sns.distplot(da_height.loc[(da_height['RIAGENDR'] == 2), ['BMXHT']]).set_title('women')  # for women\n",
    "\n",
    "plt.subplot(2,1,2)\n",
    "sns.distplot(da_height.loc[(da_height['RIAGENDR'] == 1), ['BMXHT']]).set_title('men')  # for men\n",
    "plt.show()"
   ]
  },
  {
   "cell_type": "code",
   "execution_count": 45,
   "metadata": {},
   "outputs": [
    {
     "name": "stderr",
     "output_type": "stream",
     "text": [
      "C:\\Users\\J\\Anaconda3\\lib\\site-packages\\ipykernel_launcher.py:2: SettingWithCopyWarning: \n",
      "A value is trying to be set on a copy of a slice from a DataFrame.\n",
      "Try using .loc[row_indexer,col_indexer] = value instead\n",
      "\n",
      "See the caveats in the documentation: http://pandas.pydata.org/pandas-docs/stable/user_guide/indexing.html#returning-a-view-versus-a-copy\n",
      "  \n"
     ]
    },
    {
     "data": {
      "image/png": "[encoded data removed]",
      "text/plain": [
       "<Figure size 432x288 with 1 Axes>"
      ]
     },
     "metadata": {
      "needs_background": "light"
     },
     "output_type": "display_data"
    }
   ],
   "source": [
    "# Boxplot\n",
    "da_height['gen'] = da_height.RIAGENDR.replace({1: 'Male', 2: 'Female'})\n",
    "sns.boxplot(x = da_height['BMXHT'], y = da_height['gen'])\n",
    "plt.show()"
   ]
  },
  {
   "cell_type": "markdown",
   "metadata": {},
   "source": [
    "__Q3c.__ Comment on what features, if any are not represented clearly in the boxplots, and what features, if any, are easier to see in the boxplots than in the histograms."
   ]
  },
  {
   "cell_type": "markdown",
   "metadata": {},
   "source": [
    "* It is easy to compare the boxplot and histogram. Answer is omitted."
   ]
  },
  {
   "cell_type": "markdown",
   "metadata": {},
   "source": [
    "# Question 4"
   ]
  },
  {
   "cell_type": "markdown",
   "metadata": {},
   "source": [
    "Make a boxplot showing the distribution of within-subject differences between the first and second systolic blood pressure measurents ([BPXSY1](https://wwwn.cdc.gov/Nchs/Nhanes/2015-2016/BPX_I.htm#BPXSY1) and [BPXSY2](https://wwwn.cdc.gov/Nchs/Nhanes/2015-2016/BPX_I.htm#BPXSY2))."
   ]
  },
  {
   "cell_type": "code",
   "execution_count": 46,
   "metadata": {},
   "outputs": [
    {
     "data": {
      "image/png": "[encoded data removed]",
      "text/plain": [
       "<Figure size 432x288 with 1 Axes>"
      ]
     },
     "metadata": {
      "needs_background": "light"
     },
     "output_type": "display_data"
    }
   ],
   "source": [
    "sns.boxplot(da['BPXSY2'] - da['BPXSY1'])\n",
    "plt.show()"
   ]
  },
  {
   "cell_type": "markdown",
   "metadata": {},
   "source": [
    "__Q4a.__ What proportion of the subjects have a lower SBP on the second reading compared to the first?"
   ]
  },
  {
   "cell_type": "markdown",
   "metadata": {},
   "source": [
    "* A lower SBP on the second reading means da['BPXSY2'] > da['BPXSY1'], or a negative value.\n",
    "* The median is about 1, indicating that 50% of the subjects have a lower SBP."
   ]
  },
  {
   "cell_type": "markdown",
   "metadata": {},
   "source": [
    "__Q4b.__ Make side-by-side boxplots of the two systolic blood pressure variables."
   ]
  },
  {
   "cell_type": "code",
   "execution_count": 49,
   "metadata": {},
   "outputs": [
    {
     "data": {
      "image/png": "[encoded data removed]",
      "text/plain": [
       "<Figure size 432x288 with 2 Axes>"
      ]
     },
     "metadata": {
      "needs_background": "light"
     },
     "output_type": "display_data"
    }
   ],
   "source": [
    "# Looks clearer in this way.\n",
    "plt.subplot(2,1,1)\n",
    "sns.boxplot(da['BPXSY1']).set_title('First')\n",
    "\n",
    "plt.subplot(2,1,2)\n",
    "sns.boxplot(da['BPXSY2']).set_title('Second')\n",
    "\n",
    "plt.show()"
   ]
  },
  {
   "cell_type": "markdown",
   "metadata": {},
   "source": [
    "__Q4c.__ Comment on the variation within either the first or second systolic blood pressure measurements, and the variation in the within-subject differences between the first and second systolic blood pressure measurements."
   ]
  },
  {
   "cell_type": "markdown",
   "metadata": {},
   "source": [
    "* Answer is omitted."
   ]
  },
  {
   "cell_type": "markdown",
   "metadata": {},
   "source": [
    "# Question 5"
   ]
  },
  {
   "cell_type": "markdown",
   "metadata": {},
   "source": [
    "Construct a frequency table of household sizes for people within each educational attainment category (the relevant variable is [DMDEDUC2](https://wwwn.cdc.gov/Nchs/Nhanes/2015-2016/DEMO_I.htm#DMDEDUC2)).  Convert the frequencies to proportions."
   ]
  },
  {
   "cell_type": "code",
   "execution_count": 40,
   "metadata": {},
   "outputs": [
    {
     "data": {
      "text/plain": [
       "array([ 5.,  3.,  4.,  2., nan,  1.,  9.])"
      ]
     },
     "execution_count": 40,
     "metadata": {},
     "output_type": "execute_result"
    }
   ],
   "source": [
    "# check missing values\n",
    "da.DMDEDUC2.value_counts(dropna = False)"
   ]
  },
  {
   "cell_type": "code",
   "execution_count": 57,
   "metadata": {},
   "outputs": [
    {
     "name": "stderr",
     "output_type": "stream",
     "text": [
      "C:\\Users\\J\\Anaconda3\\lib\\site-packages\\ipykernel_launcher.py:7: SettingWithCopyWarning: \n",
      "A value is trying to be set on a copy of a slice from a DataFrame.\n",
      "Try using .loc[row_indexer,col_indexer] = value instead\n",
      "\n",
      "See the caveats in the documentation: http://pandas.pydata.org/pandas-docs/stable/user_guide/indexing.html#returning-a-view-versus-a-copy\n",
      "  import sys\n"
     ]
    }
   ],
   "source": [
    "# Remove missing values in DMDEDUC2\n",
    "da_edu = da[da['DMDEDUC2'].notna()]\n",
    "\n",
    "# Replace labels\n",
    "label = {1: 'Less than 9th grade', 2: '9-11th grade', 3: 'High school graduate/GED or equivalent', 4: 'Some college or AA degree', 5: 'College graduate or above', 7: 'Refused', 9: 'Don\\'t Know'}\n",
    "\n",
    "da_edu['edu'] = da_edu.DMDEDUC2.replace(label)"
   ]
  },
  {
   "cell_type": "code",
   "execution_count": 58,
   "metadata": {},
   "outputs": [
    {
     "name": "stdout",
     "output_type": "stream",
     "text": [
      "edu                                     DMDHHSIZ\n",
      "9-11th grade                            2           0.222395\n",
      "                                        3           0.163297\n",
      "                                        4           0.152411\n",
      "                                        5           0.146190\n",
      "                                        1           0.116641\n",
      "                                        6           0.113530\n",
      "                                        7           0.085537\n",
      "College graduate or above               2           0.347731\n",
      "                                        3           0.193997\n",
      "                                        4           0.165447\n",
      "                                        1           0.142753\n",
      "                                        5           0.095168\n",
      "                                        6           0.029283\n",
      "                                        7           0.025622\n",
      "Don't Know                              2           0.666667\n",
      "                                        5           0.333333\n",
      "High school graduate/GED or equivalent  2           0.270658\n",
      "                                        3           0.171164\n",
      "                                        4           0.161889\n",
      "                                        1           0.152614\n",
      "                                        5           0.109612\n",
      "                                        7           0.068297\n",
      "                                        6           0.065767\n",
      "Less than 9th grade                     2           0.224427\n",
      "                                        5           0.148092\n",
      "                                        3           0.146565\n",
      "                                        4           0.132824\n",
      "                                        7           0.129771\n",
      "                                        1           0.109924\n",
      "                                        6           0.108397\n",
      "Some college or AA degree               2           0.268970\n",
      "                                        3           0.193091\n",
      "                                        4           0.169031\n",
      "                                        1           0.151141\n",
      "                                        5           0.122147\n",
      "                                        6           0.050586\n",
      "                                        7           0.045034\n",
      "Name: DMDHHSIZ, dtype: float64\n"
     ]
    }
   ],
   "source": [
    "# frequency table\n",
    "print(da_edu.groupby('edu')['DMDHHSIZ'].value_counts(normalize = True))"
   ]
  },
  {
   "cell_type": "markdown",
   "metadata": {},
   "source": [
    "__Q5a.__ Comment on any major differences among the distributions."
   ]
  },
  {
   "cell_type": "markdown",
   "metadata": {},
   "source": [
    "* Answer is omitted."
   ]
  },
  {
   "cell_type": "markdown",
   "metadata": {},
   "source": [
    "__Q5b.__ Restrict the sample to people between 30 and 40 years of age.  Then calculate the median household size for women and men within each level of educational attainment."
   ]
  },
  {
   "cell_type": "code",
   "execution_count": 70,
   "metadata": {
    "scrolled": false
   },
   "outputs": [
    {
     "name": "stdout",
     "output_type": "stream",
     "text": [
      "nan\n",
      "nan\n",
      "nan\n",
      "nan\n",
      "nan\n",
      "nan\n",
      "nan\n"
     ]
    },
    {
     "name": "stderr",
     "output_type": "stream",
     "text": [
      "C:\\Users\\J\\Anaconda3\\lib\\site-packages\\pandas\\core\\ops\\__init__.py:1115: FutureWarning: elementwise comparison failed; returning scalar instead, but in the future will perform elementwise comparison\n",
      "  result = method(y)\n"
     ]
    }
   ],
   "source": [
    "a = da_edu.loc[(da_edu['RIDAGEYR'] >= 30) & (da_edu['RIDAGEYR'] <= 40) & (da_edu['RIAGENDR'] == 2)]"
   ]
  },
  {
   "cell_type": "code",
   "execution_count": 103,
   "metadata": {},
   "outputs": [
    {
     "name": "stdout",
     "output_type": "stream",
     "text": [
      "The median for Less than 9th grade is 5.0\n",
      "The median for 9-11th grade is 5.0\n",
      "The median for High school graduate/GED or equivalent is 5.0\n",
      "The median for Some college or AA degree is 4.0\n",
      "The median for College graduate or above is 3.0\n",
      "The median for Refused is nan\n",
      "The median for Don't Know is nan\n"
     ]
    }
   ],
   "source": [
    "for i in label.keys():\n",
    "    x = a[a['edu'] == label[i]].DMDHHSIZ.median()\n",
    "    print('The median for', label[i], 'is', x)"
   ]
  },
  {
   "cell_type": "markdown",
   "metadata": {},
   "source": [
    "* We can see that there is no corresponding data for the last two types of education categories."
   ]
  },
  {
   "cell_type": "markdown",
   "metadata": {},
   "source": [
    "# Question 6"
   ]
  },
  {
   "cell_type": "markdown",
   "metadata": {},
   "source": [
    "The participants can be clustered into \"maked variance units\" (MVU) based on every combination of the variables [SDMVSTRA](https://wwwn.cdc.gov/Nchs/Nhanes/2015-2016/DEMO_I.htm#SDMVSTRA) and [SDMVPSU](https://wwwn.cdc.gov/Nchs/Nhanes/2015-2016/DEMO_I.htm#SDMVPSU).  Calculate the mean age ([RIDAGEYR](https://wwwn.cdc.gov/Nchs/Nhanes/2015-2016/DEMO_I.htm#RIDAGEYR)), height ([BMXHT](https://wwwn.cdc.gov/Nchs/Nhanes/2015-2016/BMX_I.htm#BMXHT)), and BMI ([BMXBMI](https://wwwn.cdc.gov/Nchs/Nhanes/2015-2016/BMX_I.htm#BMXBMI)) for each gender ([RIAGENDR](https://wwwn.cdc.gov/Nchs/Nhanes/2015-2016/DEMO_I.htm#RIAGENDR)), within each MVU, and report the ratio between the largest and smallest mean (e.g. for height) across the MVUs."
   ]
  },
  {
   "cell_type": "markdown",
   "metadata": {},
   "source": [
    "* Similar coding work to previous questions. Answer is omitted."
   ]
  }
 ],
 "metadata": {
  "kernelspec": {
   "display_name": "Python 3",
   "language": "python",
   "name": "python3"
  },
  "language_info": {
   "codemirror_mode": {
    "name": "ipython",
    "version": 3
   },
   "file_extension": ".py",
   "mimetype": "text/x-python",
   "name": "python",
   "nbconvert_exporter": "python",
   "pygments_lexer": "ipython3",
   "version": "3.7.6"
  }
 },
 "nbformat": 4,
 "nbformat_minor": 2
}
